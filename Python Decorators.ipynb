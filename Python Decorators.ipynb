{
 "cells": [
  {
   "cell_type": "markdown",
   "id": "38970312",
   "metadata": {},
   "source": [
    "# Python Decorators"
   ]
  },
  {
   "cell_type": "code",
   "execution_count": 1,
   "id": "94919e16",
   "metadata": {},
   "outputs": [
    {
     "name": "stdout",
     "output_type": "stream",
     "text": [
      "Calculation started\n",
      "Answer:  4\n"
     ]
    }
   ],
   "source": [
    "import functools\n",
    "\n",
    "def calculate(function):\n",
    "    @functools.wraps(function)\n",
    "    def wrapper(x):\n",
    "        print('Calculation started')\n",
    "        y = function(x)\n",
    "        print('Answer: ', y)\n",
    "    return wrapper\n",
    "\n",
    "@calculate\n",
    "def math(x):\n",
    "    answer = x**3-2*x\n",
    "    return answer\n",
    "\n",
    "# result = calculate(math)\n",
    "math(2)"
   ]
  },
  {
   "cell_type": "code",
   "execution_count": 4,
   "id": "57f6261c",
   "metadata": {},
   "outputs": [
    {
     "name": "stdout",
     "output_type": "stream",
     "text": [
      "Calculation started\n",
      "Answer:  4\n"
     ]
    }
   ],
   "source": [
    "class Calculation:\n",
    "    def __init__(self, func):\n",
    "        self.func = func\n",
    "    \n",
    "    def __call__(self, x):\n",
    "        self.calculate(x)\n",
    "                       \n",
    "    def calculate(self, x):\n",
    "        print('Calculation started')\n",
    "        y = self.func(x)\n",
    "        print('Answer: ', y)\n",
    "\n",
    "@Calculation\n",
    "def math(x):\n",
    "    answer = x**3-2*x\n",
    "    return answer\n",
    "\n",
    "math(2)"
   ]
  },
  {
   "cell_type": "code",
   "execution_count": 3,
   "id": "4e5c55a4",
   "metadata": {},
   "outputs": [
    {
     "name": "stdout",
     "output_type": "stream",
     "text": [
      "Calculation started\n",
      "Answer:  4\n"
     ]
    }
   ],
   "source": [
    "class Calculation:\n",
    "    def __init__(self, x):\n",
    "        self.x = x\n",
    "        \n",
    "    @calculate\n",
    "    def math(self):\n",
    "        answer = self.x**3 - 2*self.x\n",
    "        return answer\n",
    "\n",
    "def calculate(func):\n",
    "    def wrapper(instance):\n",
    "        print('Calculation started')\n",
    "        answer = func(instance)\n",
    "        print('Answer is:', answer)\n",
    "    return wrapper\n",
    "\n",
    "results = Calculation(2)\n",
    "results.math()"
   ]
  },
  {
   "cell_type": "code",
   "execution_count": null,
   "id": "081719ee",
   "metadata": {},
   "outputs": [],
   "source": []
  }
 ],
 "metadata": {
  "kernelspec": {
   "display_name": "Python 3 (ipykernel)",
   "language": "python",
   "name": "python3"
  },
  "language_info": {
   "codemirror_mode": {
    "name": "ipython",
    "version": 3
   },
   "file_extension": ".py",
   "mimetype": "text/x-python",
   "name": "python",
   "nbconvert_exporter": "python",
   "pygments_lexer": "ipython3",
   "version": "3.8.8"
  }
 },
 "nbformat": 4,
 "nbformat_minor": 5
}
